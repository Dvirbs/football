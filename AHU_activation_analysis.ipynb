{
 "cells": [
  {
   "cell_type": "code",
   "execution_count": 22,
   "metadata": {
    "collapsed": true,
    "ExecuteTime": {
     "end_time": "2023-06-14T17:46:52.267902133Z",
     "start_time": "2023-06-14T17:46:52.218935513Z"
    }
   },
   "outputs": [],
   "source": [
    "import pre_processing\n",
    "import statistics_calculation\n",
    "import visualization\n",
    "import pandas as pd\n",
    "import importlib"
   ]
  },
  {
   "cell_type": "code",
   "execution_count": 1,
   "outputs": [],
   "source": [],
   "metadata": {
    "collapsed": false,
    "ExecuteTime": {
     "end_time": "2023-06-14T17:33:24.825836395Z",
     "start_time": "2023-06-14T17:33:24.808408504Z"
    }
   }
  },
  {
   "cell_type": "markdown",
   "source": [
    "## Train Statistical Model & Find Parameter Threshold"
   ],
   "metadata": {
    "collapsed": false
   }
  },
  {
   "cell_type": "code",
   "execution_count": 2,
   "outputs": [],
   "source": [
    "#---------------------Commands_DAQ---------------\n",
    "CSV_FNAME = 'command_2022_2023.csv'\n",
    "# Turn into pickle first time\n",
    "pre_processing.load_and_preprocess_data(CSV_FNAME, 'min', 'command')\n",
    "command_df = pd.read_pickle(f'pkl/{CSV_FNAME.replace(\".csv\", \".pkl\")}')\n",
    "#---------------------analyzer_DAQ---------------\n",
    "CSV_FNAME_2 = 'analyzer_306_daq_2022_2023.csv'\n",
    "# Turn into pickle first time\n",
    "pre_processing.load_and_preprocess_data(CSV_FNAME_2, 'min', 'value')\n",
    "analyzer_data_df = pd.read_pickle(f'pkl/{CSV_FNAME_2.replace(\".csv\", \".pkl\")}')\n",
    "# Combine data frames\n",
    "combine_data_with_derivatives = pre_processing.merge_and_calculate_derivatives(command_df, analyzer_data_df, 'value')\n"
   ],
   "metadata": {
    "collapsed": false,
    "ExecuteTime": {
     "end_time": "2023-06-14T17:35:01.438335150Z",
     "start_time": "2023-06-14T17:33:26.775946429Z"
    }
   }
  },
  {
   "cell_type": "code",
   "execution_count": null,
   "outputs": [],
   "source": [
    "all_statistics_df_Summer_22 = statistics_calculation.calculate_daily_statistics(combine_data_with_derivatives,\n",
    "                                                                                '2022-05-09', '2022-09-10', 'value')\n",
    "all_statistics_df_not_control = statistics_calculation.calculate_daily_statistics(combine_data_with_derivatives,\n",
    "                                                                                  '2023-01-23', '2023-05-01', 'value')\n",
    "stats_df_summer_22_ana = pd.concat([all_statistics_df_Summer_22, all_statistics_df_not_control])\n",
    "stats_df_summer_22_ana = stats_df_summer_22_ana.dropna()\n"
   ],
   "metadata": {
    "collapsed": false
   }
  },
  {
   "cell_type": "code",
   "execution_count": 17,
   "outputs": [],
   "source": [
    "roc_df, top_threshold, top_threshold_column = statistics_calculation.analyze_roc_find_threshold(stats_df_summer_22_ana)"
   ],
   "metadata": {
    "collapsed": false,
    "ExecuteTime": {
     "end_time": "2023-06-14T17:40:21.256744368Z",
     "start_time": "2023-06-14T17:40:18.564541013Z"
    }
   }
  },
  {
   "cell_type": "code",
   "execution_count": 18,
   "outputs": [
    {
     "name": "stdout",
     "output_type": "stream",
     "text": [
      "top_threshold -0.055694899999991776\n",
      "top_threshold_column y_score_second_derivative_min\n"
     ]
    }
   ],
   "source": [
    "print('top_threshold', top_threshold)\n",
    "print('top_threshold_column', top_threshold_column)"
   ],
   "metadata": {
    "collapsed": false,
    "ExecuteTime": {
     "end_time": "2023-06-14T17:40:26.315863166Z",
     "start_time": "2023-06-14T17:40:26.258404893Z"
    }
   }
  },
  {
   "cell_type": "markdown",
   "source": [
    "# Visualization Threshold output"
   ],
   "metadata": {
    "collapsed": false
   }
  },
  {
   "cell_type": "code",
   "execution_count": 37,
   "outputs": [],
   "source": [
    "visualization.compute_and_plot_difference_by_threshold(stats_df_summer_22_ana,\n",
    "                                                    [f'command_execution_period_{top_threshold_column[8:]}',\n",
    "                                                     f'before_command_sent_{top_threshold_column[8:]}'], top_threshold)"
   ],
   "metadata": {
    "collapsed": false,
    "ExecuteTime": {
     "end_time": "2023-06-14T17:59:12.714861780Z",
     "start_time": "2023-06-14T17:59:07.566386735Z"
    }
   }
  },
  {
   "cell_type": "code",
   "execution_count": 37,
   "outputs": [],
   "source": [],
   "metadata": {
    "collapsed": false,
    "ExecuteTime": {
     "end_time": "2023-06-14T18:00:24.738404298Z",
     "start_time": "2023-06-14T18:00:24.667213525Z"
    }
   }
  },
  {
   "cell_type": "code",
   "execution_count": null,
   "outputs": [],
   "source": [],
   "metadata": {
    "collapsed": false
   }
  }
 ],
 "metadata": {
  "kernelspec": {
   "display_name": "Python 3",
   "language": "python",
   "name": "python3"
  },
  "language_info": {
   "codemirror_mode": {
    "name": "ipython",
    "version": 2
   },
   "file_extension": ".py",
   "mimetype": "text/x-python",
   "name": "python",
   "nbconvert_exporter": "python",
   "pygments_lexer": "ipython2",
   "version": "2.7.6"
  }
 },
 "nbformat": 4,
 "nbformat_minor": 0
}
