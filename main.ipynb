{
 "cells": [
  {
   "cell_type": "code",
   "execution_count": 1,
   "outputs": [],
   "source": [
    "import pre_processing\n",
    "import statistics_calculation\n",
    "import visualization\n",
    "import pandas as pd\n",
    "import importlib"
   ],
   "metadata": {
    "collapsed": false,
    "pycharm": {
     "name": "#%%\n"
    }
   }
  },
  {
   "cell_type": "markdown",
   "source": [
    "#---------------------DAQ---------------\n"
   ],
   "metadata": {
    "collapsed": false
   }
  },
  {
   "cell_type": "code",
   "execution_count": 25,
   "outputs": [],
   "source": [
    "CSV_FNAME = '2023-07-02-19-Players-Full-report-export.csv'\n",
    "last_practice_df = pre_processing.load_and_preprocess_data(CSV_FNAME)"
   ],
   "metadata": {
    "collapsed": false,
    "pycharm": {
     "name": "#%%\n"
    }
   }
  },
  {
   "cell_type": "code",
   "execution_count": 28,
   "outputs": [
    {
     "name": "stdout",
     "output_type": "stream",
     "text": [
      "252062\n"
     ]
    }
   ],
   "source": [
    "print(last_practice_df['Total Distance'].sum())"
   ],
   "metadata": {
    "collapsed": false,
    "pycharm": {
     "name": "#%%\n"
    }
   }
  },
  {
   "cell_type": "code",
   "execution_count": 29,
   "outputs": [
    {
     "name": "stdout",
     "output_type": "stream",
     "text": [
      "            Total Distance\n",
      "Date                      \n",
      "2023-04-11        236640.0\n",
      "2023-04-13        266194.0\n",
      "2023-04-14        229634.0\n",
      "2023-04-16        139855.0\n",
      "2023-04-19        280719.0\n",
      "2023-04-20        326810.0\n",
      "2023-04-22        217216.0\n",
      "2023-04-24        228726.0\n",
      "2023-04-25        308714.0\n",
      "2023-04-27        276914.0\n",
      "2023-04-29        233399.0\n",
      "2023-04-30        183772.0\n",
      "2023-05-02        314338.0\n",
      "2023-05-03        373361.0\n",
      "2023-05-08        106135.0\n",
      "2023-05-11        216169.0\n",
      "2023-05-12        214751.0\n",
      "2023-05-17        269238.0\n",
      "2023-05-18        278328.0\n",
      "2023-05-19        203208.0\n",
      "2023-06-25        220833.0\n",
      "2023-06-26        257853.0\n",
      "2023-06-27        130344.0\n",
      "2023-06-27        229314.0\n",
      "2023-06-28        240260.0\n",
      "2023-06-29        351499.0\n",
      "2023-07-02        252062.0\n"
     ]
    }
   ],
   "source": [
    "importlib.reload(pre_processing)\n",
    "df = pre_processing.aggregate_total_distance('Total Distance')\n",
    "print(df)\n"
   ],
   "metadata": {
    "collapsed": false,
    "pycharm": {
     "name": "#%%\n"
    }
   }
  },
  {
   "cell_type": "code",
   "execution_count": 24,
   "outputs": [
    {
     "name": "stdout",
     "output_type": "stream",
     "text": [
      "       Total Distance\n",
      "count       26.000000\n",
      "mean    243624.000000\n",
      "std      63558.792778\n",
      "min     106135.000000\n",
      "25%     216430.750000\n",
      "50%     235019.500000\n",
      "75%     277974.500000\n",
      "max     373361.000000\n"
     ]
    }
   ],
   "source": [
    "importlib.reload(statistics_calculation)\n",
    "\n",
    "stats = statistics_calculation.calculate_statistics_all_days(df)\n",
    "print(stats)\n",
    "\n"
   ],
   "metadata": {
    "collapsed": false,
    "pycharm": {
     "name": "#%%\n"
    }
   }
  },
  {
   "cell_type": "code",
   "execution_count": 27,
   "outputs": [
    {
     "name": "stdout",
     "output_type": "stream",
     "text": [
      "Adjusted intensity for today's practice is: 267986.4\n"
     ]
    }
   ],
   "source": [
    "importlib.reload(statistics_calculation)\n",
    "\n",
    "adjusted_intensity = statistics_calculation.adjust_intensity(last_practice_df, stats)\n",
    "print(\"Adjusted intensity for today's practice is:\", adjusted_intensity)\n",
    "\n"
   ],
   "metadata": {
    "collapsed": false,
    "pycharm": {
     "name": "#%%\n"
    }
   }
  },
  {
   "cell_type": "code",
   "execution_count": 33,
   "outputs": [],
   "source": [
    "importlib.reload(visualization)\n",
    "\n",
    "#visualization.visualize_results()\n",
    "visualization.visualize_results_go(df, adjusted_intensity, df.index[-1])\n"
   ],
   "metadata": {
    "collapsed": false,
    "pycharm": {
     "name": "#%%\n"
    }
   }
  }
 ],
 "metadata": {
  "kernelspec": {
   "display_name": "Python 3",
   "language": "python",
   "name": "python3"
  },
  "language_info": {
   "codemirror_mode": {
    "name": "ipython",
    "version": 2
   },
   "file_extension": ".py",
   "mimetype": "text/x-python",
   "name": "python",
   "nbconvert_exporter": "python",
   "pygments_lexer": "ipython2",
   "version": "2.7.6"
  }
 },
 "nbformat": 4,
 "nbformat_minor": 0
}