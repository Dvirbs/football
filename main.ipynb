{
 "cells": [
  {
   "cell_type": "code",
   "execution_count": 2,
   "metadata": {
    "collapsed": true
   },
   "outputs": [],
   "source": [
    "import pre_processing\n",
    "import statistics_calculation\n",
    "import visualization\n",
    "import pandas as pd\n",
    "import importlib"
   ]
  },
  {
   "cell_type": "code",
   "execution_count": 144,
   "outputs": [],
   "source": [
    "importlib.reload(pre_processing)\n",
    "CSV_FNAME = 'Mastersheet_training.csv'\n",
    "master_df = pre_processing.load_and_preprocess_data(CSV_FNAME)"
   ],
   "metadata": {
    "collapsed": false,
    "pycharm": {
     "name": "#%%\n"
    }
   }
  },
  {
   "cell_type": "code",
   "execution_count": 145,
   "outputs": [],
   "source": [
    "importlib.reload(statistics_calculation)\n",
    "distance_data, summed_data = statistics_calculation.sum_total_distance_by_match_day(master_df)"
   ],
   "metadata": {
    "collapsed": false,
    "pycharm": {
     "name": "#%%\n"
    }
   }
  },
  {
   "cell_type": "code",
   "execution_count": 149,
   "outputs": [
    {
     "data": {
      "text/plain": "     Day  Session   Total Distance\n0   MD+1         1            5763\n1   MD+1         5           50212\n2   MD+1         9           44389\n3   MD+1        21           47638\n4   MD+1        23           39183\n5   MD+1        29           53541\n6   MD+1        36           34904\n7   MD+1        41           20968\n8   MD+2        25           57126\n9   MD+2        33           60712\n10  MD+3        10           67505\n11  MD+3        17           51840\n12  MD+3        26           52389\n13  MD+3        34           58908\n14  MD+3        37           55084\n15  MD-1         4           45032\n16  MD-1         8           39273\n17  MD-1        13           31495\n18  MD-1        16           52377\n19  MD-1        20           30244\n20  MD-1        22           34919\n21  MD-1        24           49794\n22  MD-1        28           32366\n23  MD-1        32           41853\n24  MD-1        35           45711\n25  MD-1        40           43727\n26  MD-1        44           36390\n27  MD-2         3           63999\n28  MD-2         7           74941\n29  MD-2        12           59703\n30  MD-2        15           52884\n31  MD-2        19           72811\n32  MD-2        27           42662\n33  MD-2        31           37348\n34  MD-2        39           46321\n35  MD-2        43           37322\n36  MD-2        46           65962\n37  MD-3         2           67871\n38  MD-3         6           69940\n39  MD-3        11           54528\n40  MD-3        14           61150\n41  MD-3        30           67386\n42  MD-3        42           40287\n43  MD-3        45           16065\n44  MD-4        18           77101\n45  MD-4        38           87424",
      "text/html": "<div>\n<style scoped>\n    .dataframe tbody tr th:only-of-type {\n        vertical-align: middle;\n    }\n\n    .dataframe tbody tr th {\n        vertical-align: top;\n    }\n\n    .dataframe thead th {\n        text-align: right;\n    }\n</style>\n<table border=\"1\" class=\"dataframe\">\n  <thead>\n    <tr style=\"text-align: right;\">\n      <th></th>\n      <th>Day</th>\n      <th>Session</th>\n      <th>Total Distance</th>\n    </tr>\n  </thead>\n  <tbody>\n    <tr>\n      <th>0</th>\n      <td>MD+1</td>\n      <td>1</td>\n      <td>5763</td>\n    </tr>\n    <tr>\n      <th>1</th>\n      <td>MD+1</td>\n      <td>5</td>\n      <td>50212</td>\n    </tr>\n    <tr>\n      <th>2</th>\n      <td>MD+1</td>\n      <td>9</td>\n      <td>44389</td>\n    </tr>\n    <tr>\n      <th>3</th>\n      <td>MD+1</td>\n      <td>21</td>\n      <td>47638</td>\n    </tr>\n    <tr>\n      <th>4</th>\n      <td>MD+1</td>\n      <td>23</td>\n      <td>39183</td>\n    </tr>\n    <tr>\n      <th>5</th>\n      <td>MD+1</td>\n      <td>29</td>\n      <td>53541</td>\n    </tr>\n    <tr>\n      <th>6</th>\n      <td>MD+1</td>\n      <td>36</td>\n      <td>34904</td>\n    </tr>\n    <tr>\n      <th>7</th>\n      <td>MD+1</td>\n      <td>41</td>\n      <td>20968</td>\n    </tr>\n    <tr>\n      <th>8</th>\n      <td>MD+2</td>\n      <td>25</td>\n      <td>57126</td>\n    </tr>\n    <tr>\n      <th>9</th>\n      <td>MD+2</td>\n      <td>33</td>\n      <td>60712</td>\n    </tr>\n    <tr>\n      <th>10</th>\n      <td>MD+3</td>\n      <td>10</td>\n      <td>67505</td>\n    </tr>\n    <tr>\n      <th>11</th>\n      <td>MD+3</td>\n      <td>17</td>\n      <td>51840</td>\n    </tr>\n    <tr>\n      <th>12</th>\n      <td>MD+3</td>\n      <td>26</td>\n      <td>52389</td>\n    </tr>\n    <tr>\n      <th>13</th>\n      <td>MD+3</td>\n      <td>34</td>\n      <td>58908</td>\n    </tr>\n    <tr>\n      <th>14</th>\n      <td>MD+3</td>\n      <td>37</td>\n      <td>55084</td>\n    </tr>\n    <tr>\n      <th>15</th>\n      <td>MD-1</td>\n      <td>4</td>\n      <td>45032</td>\n    </tr>\n    <tr>\n      <th>16</th>\n      <td>MD-1</td>\n      <td>8</td>\n      <td>39273</td>\n    </tr>\n    <tr>\n      <th>17</th>\n      <td>MD-1</td>\n      <td>13</td>\n      <td>31495</td>\n    </tr>\n    <tr>\n      <th>18</th>\n      <td>MD-1</td>\n      <td>16</td>\n      <td>52377</td>\n    </tr>\n    <tr>\n      <th>19</th>\n      <td>MD-1</td>\n      <td>20</td>\n      <td>30244</td>\n    </tr>\n    <tr>\n      <th>20</th>\n      <td>MD-1</td>\n      <td>22</td>\n      <td>34919</td>\n    </tr>\n    <tr>\n      <th>21</th>\n      <td>MD-1</td>\n      <td>24</td>\n      <td>49794</td>\n    </tr>\n    <tr>\n      <th>22</th>\n      <td>MD-1</td>\n      <td>28</td>\n      <td>32366</td>\n    </tr>\n    <tr>\n      <th>23</th>\n      <td>MD-1</td>\n      <td>32</td>\n      <td>41853</td>\n    </tr>\n    <tr>\n      <th>24</th>\n      <td>MD-1</td>\n      <td>35</td>\n      <td>45711</td>\n    </tr>\n    <tr>\n      <th>25</th>\n      <td>MD-1</td>\n      <td>40</td>\n      <td>43727</td>\n    </tr>\n    <tr>\n      <th>26</th>\n      <td>MD-1</td>\n      <td>44</td>\n      <td>36390</td>\n    </tr>\n    <tr>\n      <th>27</th>\n      <td>MD-2</td>\n      <td>3</td>\n      <td>63999</td>\n    </tr>\n    <tr>\n      <th>28</th>\n      <td>MD-2</td>\n      <td>7</td>\n      <td>74941</td>\n    </tr>\n    <tr>\n      <th>29</th>\n      <td>MD-2</td>\n      <td>12</td>\n      <td>59703</td>\n    </tr>\n    <tr>\n      <th>30</th>\n      <td>MD-2</td>\n      <td>15</td>\n      <td>52884</td>\n    </tr>\n    <tr>\n      <th>31</th>\n      <td>MD-2</td>\n      <td>19</td>\n      <td>72811</td>\n    </tr>\n    <tr>\n      <th>32</th>\n      <td>MD-2</td>\n      <td>27</td>\n      <td>42662</td>\n    </tr>\n    <tr>\n      <th>33</th>\n      <td>MD-2</td>\n      <td>31</td>\n      <td>37348</td>\n    </tr>\n    <tr>\n      <th>34</th>\n      <td>MD-2</td>\n      <td>39</td>\n      <td>46321</td>\n    </tr>\n    <tr>\n      <th>35</th>\n      <td>MD-2</td>\n      <td>43</td>\n      <td>37322</td>\n    </tr>\n    <tr>\n      <th>36</th>\n      <td>MD-2</td>\n      <td>46</td>\n      <td>65962</td>\n    </tr>\n    <tr>\n      <th>37</th>\n      <td>MD-3</td>\n      <td>2</td>\n      <td>67871</td>\n    </tr>\n    <tr>\n      <th>38</th>\n      <td>MD-3</td>\n      <td>6</td>\n      <td>69940</td>\n    </tr>\n    <tr>\n      <th>39</th>\n      <td>MD-3</td>\n      <td>11</td>\n      <td>54528</td>\n    </tr>\n    <tr>\n      <th>40</th>\n      <td>MD-3</td>\n      <td>14</td>\n      <td>61150</td>\n    </tr>\n    <tr>\n      <th>41</th>\n      <td>MD-3</td>\n      <td>30</td>\n      <td>67386</td>\n    </tr>\n    <tr>\n      <th>42</th>\n      <td>MD-3</td>\n      <td>42</td>\n      <td>40287</td>\n    </tr>\n    <tr>\n      <th>43</th>\n      <td>MD-3</td>\n      <td>45</td>\n      <td>16065</td>\n    </tr>\n    <tr>\n      <th>44</th>\n      <td>MD-4</td>\n      <td>18</td>\n      <td>77101</td>\n    </tr>\n    <tr>\n      <th>45</th>\n      <td>MD-4</td>\n      <td>38</td>\n      <td>87424</td>\n    </tr>\n  </tbody>\n</table>\n</div>"
     },
     "execution_count": 149,
     "metadata": {},
     "output_type": "execute_result"
    }
   ],
   "source": [
    "summed_data"
   ],
   "metadata": {
    "collapsed": false,
    "pycharm": {
     "name": "#%%\n"
    }
   }
  },
  {
   "cell_type": "code",
   "execution_count": 150,
   "outputs": [
    {
     "data": {
      "text/plain": "      Summed Total Distance  Confidence Interval (Low)  \\\nDay                                                      \nMD+1           37074.750000               22007.932133   \nMD+2           58919.000000               56573.882587   \nMD+3           57145.200000               51197.211286   \nMD-1           40265.083333               33499.272084   \nMD-2           55395.300000               42342.512028   \nMD-3           53889.571429               35765.977727   \nMD-4           82262.500000               75511.622406   \n\n      Confidence Interval (High)  \nDay                               \nMD+1                52141.567867  \nMD+2                61264.117413  \nMD+3                63093.188714  \nMD-1                47030.894583  \nMD-2                68448.087972  \nMD-3                72013.165130  \nMD-4                89013.377594  ",
      "text/html": "<div>\n<style scoped>\n    .dataframe tbody tr th:only-of-type {\n        vertical-align: middle;\n    }\n\n    .dataframe tbody tr th {\n        vertical-align: top;\n    }\n\n    .dataframe thead th {\n        text-align: right;\n    }\n</style>\n<table border=\"1\" class=\"dataframe\">\n  <thead>\n    <tr style=\"text-align: right;\">\n      <th></th>\n      <th>Summed Total Distance</th>\n      <th>Confidence Interval (Low)</th>\n      <th>Confidence Interval (High)</th>\n    </tr>\n    <tr>\n      <th>Day</th>\n      <th></th>\n      <th></th>\n      <th></th>\n    </tr>\n  </thead>\n  <tbody>\n    <tr>\n      <th>MD+1</th>\n      <td>37074.750000</td>\n      <td>22007.932133</td>\n      <td>52141.567867</td>\n    </tr>\n    <tr>\n      <th>MD+2</th>\n      <td>58919.000000</td>\n      <td>56573.882587</td>\n      <td>61264.117413</td>\n    </tr>\n    <tr>\n      <th>MD+3</th>\n      <td>57145.200000</td>\n      <td>51197.211286</td>\n      <td>63093.188714</td>\n    </tr>\n    <tr>\n      <th>MD-1</th>\n      <td>40265.083333</td>\n      <td>33499.272084</td>\n      <td>47030.894583</td>\n    </tr>\n    <tr>\n      <th>MD-2</th>\n      <td>55395.300000</td>\n      <td>42342.512028</td>\n      <td>68448.087972</td>\n    </tr>\n    <tr>\n      <th>MD-3</th>\n      <td>53889.571429</td>\n      <td>35765.977727</td>\n      <td>72013.165130</td>\n    </tr>\n    <tr>\n      <th>MD-4</th>\n      <td>82262.500000</td>\n      <td>75511.622406</td>\n      <td>89013.377594</td>\n    </tr>\n  </tbody>\n</table>\n</div>"
     },
     "execution_count": 150,
     "metadata": {},
     "output_type": "execute_result"
    }
   ],
   "source": [
    "distance_data"
   ],
   "metadata": {
    "collapsed": false,
    "pycharm": {
     "name": "#%%\n"
    }
   }
  },
  {
   "cell_type": "code",
   "execution_count": 61,
   "outputs": [],
   "source": [
    "importlib.reload(pre_processing)\n",
    "distance_data_ordered = pre_processing.reorder_dataframe(distance_data)"
   ],
   "metadata": {
    "collapsed": false,
    "pycharm": {
     "name": "#%%\n"
    }
   }
  },
  {
   "cell_type": "code",
   "execution_count": 71,
   "outputs": [],
   "source": [
    "importlib.reload(visualization)\n",
    "visualization.visualize_total_distance_distribution(distance_data_ordered, summed_data)\n"
   ],
   "metadata": {
    "collapsed": false,
    "pycharm": {
     "name": "#%%\n"
    }
   }
  },
  {
   "cell_type": "code",
   "execution_count": 136,
   "outputs": [
    {
     "name": "stdout",
     "output_type": "stream",
     "text": [
      "48407.0\n"
     ]
    }
   ],
   "source": [
    "last_practice_csv = 'test.csv'\n",
    "last_practice_df = pre_processing.load_and_preprocess_data(last_practice_csv)\n",
    "total_distance_last_practice = last_practice_df['Total Distance'].sum()\n",
    "print(total_distance_last_practice)"
   ],
   "metadata": {
    "collapsed": false,
    "pycharm": {
     "name": "#%%\n"
    }
   }
  },
  {
   "cell_type": "code",
   "execution_count": 137,
   "outputs": [
    {
     "name": "stdout",
     "output_type": "stream",
     "text": [
      "The desired intensity for the next practice is 62951.37 distance units.\n"
     ]
    }
   ],
   "source": [
    "importlib.reload(statistics_calculation)\n",
    "next_day = 'MD-3'  # Replace with your function to calculate the next day\n",
    "desired_intensity, percentile_last_practice, desired_percentile_next_practice = statistics_calculation.calculate_next_intensity(\n",
    "    last_practice_df, distance_data_ordered, next_day)\n",
    "print(f\"The desired intensity for the next practice is {desired_intensity:.2f} distance units.\")"
   ],
   "metadata": {
    "collapsed": false,
    "pycharm": {
     "name": "#%%\n"
    }
   }
  },
  {
   "cell_type": "code",
   "execution_count": 138,
   "outputs": [
    {
     "data": {
      "text/plain": "62951.368279381306"
     },
     "execution_count": 138,
     "metadata": {},
     "output_type": "execute_result"
    }
   ],
   "source": [
    "percentile_last_practice\n",
    "desired_percentile_next_practice\n",
    "desired_intensity"
   ],
   "metadata": {
    "collapsed": false,
    "pycharm": {
     "name": "#%%\n"
    }
   }
  },
  {
   "cell_type": "code",
   "execution_count": 139,
   "outputs": [],
   "source": [
    "importlib.reload(visualization)\n",
    "next_day = 'MD-3'  # Replace with your function to calculate the next day\n",
    "\n",
    "visualization.visualize_stats_go(last_practice_df, distance_data_ordered, next_day, desired_intensity)\n"
   ],
   "metadata": {
    "collapsed": false,
    "pycharm": {
     "name": "#%%\n"
    }
   }
  },
  {
   "cell_type": "code",
   "execution_count": null,
   "outputs": [],
   "source": [
    "\n",
    "\n",
    "\n",
    "\n",
    "\n",
    "\n",
    "\n"
   ],
   "metadata": {
    "collapsed": false,
    "pycharm": {
     "name": "#%%\n"
    }
   }
  }
 ],
 "metadata": {
  "kernelspec": {
   "name": "pycharm-2d660dcd",
   "language": "python",
   "display_name": "PyCharm (football)"
  },
  "language_info": {
   "codemirror_mode": {
    "name": "ipython",
    "version": 2
   },
   "file_extension": ".py",
   "mimetype": "text/x-python",
   "name": "python",
   "nbconvert_exporter": "python",
   "pygments_lexer": "ipython2",
   "version": "2.7.6"
  }
 },
 "nbformat": 4,
 "nbformat_minor": 0
}